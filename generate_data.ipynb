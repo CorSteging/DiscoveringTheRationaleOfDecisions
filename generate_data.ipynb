{
 "cells": [
  {
   "cell_type": "markdown",
   "id": "05b1c2ea-ed1f-4445-bcdc-505bfa1da14a",
   "metadata": {},
   "source": [
    "# Generate data"
   ]
  },
  {
   "cell_type": "markdown",
   "id": "19332b2d-cb8c-4e03-8708-5cf35db284e1",
   "metadata": {},
   "source": [
    "Run this Jupyter notebook to generate all of the datasets that were used in the experiments"
   ]
  },
  {
   "cell_type": "code",
   "execution_count": 1,
   "id": "indoor-network",
   "metadata": {},
   "outputs": [],
   "source": [
    "from wb_dataset import *\n",
    "from wb_dataset_helpers import *\n",
    "from tort_dataset import *\n",
    "\n",
    "%load_ext autoreload\n",
    "%autoreload 2"
   ]
  },
  {
   "cell_type": "markdown",
   "id": "incredible-carolina",
   "metadata": {},
   "source": [
    "### Welfare benefit"
   ]
  },
  {
   "cell_type": "code",
   "execution_count": 2,
   "id": "spanish-exploration",
   "metadata": {},
   "outputs": [],
   "source": [
    "n_noise=52"
   ]
  },
  {
   "cell_type": "code",
   "execution_count": 3,
   "id": "human-mother",
   "metadata": {},
   "outputs": [],
   "source": [
    "train_A_df = create_dataset(2400, create_instance, fail_ratio=0.5, n_noise=n_noise)\n",
    "train_A_df.to_csv('datasets/A_2400.csv', index=False)\n",
    "train_B_df = create_dataset(2400, create_instance_single_fail, fail_ratio=0.5, n_noise=n_noise)\n",
    "train_B_df.to_csv('datasets/B_2400.csv', index=False)"
   ]
  },
  {
   "cell_type": "code",
   "execution_count": 4,
   "id": "solid-uruguay",
   "metadata": {},
   "outputs": [],
   "source": [
    "train_A_df = create_dataset(50000, create_instance, fail_ratio=0.5, n_noise=n_noise)\n",
    "train_A_df.to_csv('datasets/A_50000.csv', index=False)\n",
    "train_B_df = create_dataset(50000, create_instance_single_fail, fail_ratio=0.5, n_noise=n_noise)\n",
    "train_B_df.to_csv('datasets/B_50000.csv', index=False)"
   ]
  },
  {
   "cell_type": "code",
   "execution_count": 5,
   "id": "noble-closure",
   "metadata": {},
   "outputs": [],
   "source": [
    "pd_df = create_patient_distance_dataset(db_size=20, n_noise=n_noise)\n",
    "pd_df.to_csv('datasets/patient_distance.csv', index=False)\n",
    "ag_df = create_age_gender_dataset(db_size=20, n_noise=n_noise)\n",
    "ag_df.to_csv('datasets/age_gender.csv', index=False)"
   ]
  },
  {
   "cell_type": "markdown",
   "id": "handled-damages",
   "metadata": {},
   "source": [
    "### Tort Law"
   ]
  },
  {
   "cell_type": "code",
   "execution_count": 6,
   "id": "african-notice",
   "metadata": {},
   "outputs": [],
   "source": [
    "unique_df = generate_unique_dataset()\n",
    "unique_df.to_csv('datasets/tort_unique.csv', index=False)"
   ]
  },
  {
   "cell_type": "code",
   "execution_count": 7,
   "id": "native-living",
   "metadata": {},
   "outputs": [],
   "source": [
    "train_df = generate_dataset(5000)\n",
    "train_df.to_csv('datasets/tort_5000.csv', index=False)\n",
    "small_train_df = generate_dataset(500)\n",
    "small_train_df.to_csv('datasets/tort_500.csv', index=False)"
   ]
  },
  {
   "cell_type": "code",
   "execution_count": 8,
   "id": "sophisticated-hundred",
   "metadata": {},
   "outputs": [],
   "source": [
    "unl_df = generate_unlawful_dataset()\n",
    "unl_df.to_csv('datasets/unlawfulness.csv', index=False)\n",
    "imp_df = generate_impudence_dataset()\n",
    "imp_df.to_csv('datasets/imputability.csv', index=False)"
   ]
  }
 ],
 "metadata": {
  "kernelspec": {
   "display_name": "Python 3 (ipykernel)",
   "language": "python",
   "name": "python3"
  },
  "language_info": {
   "codemirror_mode": {
    "name": "ipython",
    "version": 3
   },
   "file_extension": ".py",
   "mimetype": "text/x-python",
   "name": "python",
   "nbconvert_exporter": "python",
   "pygments_lexer": "ipython3",
   "version": "3.9.6"
  }
 },
 "nbformat": 4,
 "nbformat_minor": 5
}
