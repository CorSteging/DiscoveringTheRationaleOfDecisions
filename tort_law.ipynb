{
 "cells": [
  {
   "cell_type": "markdown",
   "metadata": {},
   "source": [
    "# Tort Law Experiment"
   ]
  },
  {
   "cell_type": "code",
   "execution_count": 18,
   "metadata": {},
   "outputs": [],
   "source": [
    "from tort_dataset import *\n",
    "from neural_networks import *\n",
    "\n",
    "from tqdm import tqdm\n",
    "from joblib import Parallel, delayed\n",
    "\n",
    "%load_ext autoreload\n",
    "%autoreload 2\n",
    "\n",
    "# Increase resolution of plots\n",
    "plt.rcParams['figure.dpi'] = 150\n",
    "\n",
    "# Show more columns\n",
    "pd.set_option('display.max_column',None)"
   ]
  },
  {
   "cell_type": "markdown",
   "metadata": {},
   "source": [
    "### Initialize global parameters"
   ]
  },
  {
   "cell_type": "code",
   "execution_count": 21,
   "metadata": {},
   "outputs": [],
   "source": [
    "# Datasets parameters\n",
    "db_size = 5000\n",
    "db_size_small = 500\n",
    "\n",
    "# Network parameters\n",
    "hidden_layers = [(12), (24, 6), (24,10,3)]\n",
    "activation = 'logistic'\n",
    "max_iter = 50000\n",
    "learning_rate_init = 0.001\n",
    "solver = 'adam'\n",
    "batch_size = 50"
   ]
  },
  {
   "cell_type": "markdown",
   "metadata": {},
   "source": [
    "### Intialize datasets"
   ]
  },
  {
   "cell_type": "code",
   "execution_count": 20,
   "metadata": {},
   "outputs": [],
   "source": [
    "# Unique dataset\n",
    "unique_df = generate_unique_dataset()\n",
    "X_unique, y_unique = preprocess(unique_df)\n",
    "\n",
    "# Regular training dataset\n",
    "train_df = generate_dataset(db_size)\n",
    "X_train, y_train = preprocess(train_df)\n",
    "\n",
    "# Regular test dataset\n",
    "test_df = generate_dataset(db_size)\n",
    "X_test, y_test = preprocess(test_df)\n",
    "\n",
    "# Smaller training dataset\n",
    "small_train_df = generate_dataset(db_size_small)\n",
    "X_train_small, y_train_small = preprocess(small_train_df)\n",
    "\n",
    "# Special test datasets to test the learned rationale (unlawfulness and impudence)\n",
    "unl_df = generate_unlawful_dataset()\n",
    "X_unl, y_unl = preprocess(unl_df)\n",
    "\n",
    "imp_df = generate_impudence_dataset()\n",
    "X_imp, y_imp = preprocess(imp_df)"
   ]
  },
  {
   "cell_type": "markdown",
   "metadata": {},
   "source": [
    "### Train networks"
   ]
  },
  {
   "cell_type": "code",
   "execution_count": 22,
   "metadata": {},
   "outputs": [],
   "source": [
    "def create_network(layers):\n",
    "    '''Creates an MLP with a given number of hidden layers'''\n",
    "    return MLPClassifier(activation=activation, hidden_layer_sizes=layers, \n",
    "                         max_iter=max_iter, learning_rate_init=learning_rate_init,\n",
    "                         solver=solver, batch_size=batch_size)\n",
    "\n",
    "def train_networks(nn, X, y):\n",
    "    nn.fit(X, y)\n",
    "    return nn"
   ]
  },
  {
   "cell_type": "code",
   "execution_count": 23,
   "metadata": {},
   "outputs": [
    {
     "name": "stderr",
     "output_type": "stream",
     "text": [
      "100%|██████████| 3/3 [00:00<00:00, 2175.47it/s]\n",
      "100%|██████████| 3/3 [00:00<00:00, 3224.73it/s]\n"
     ]
    }
   ],
   "source": [
    "# Create and train the neural networks on the regular training set\n",
    "neural_nets = [create_network(hls) for hls in hidden_layers]   \n",
    "neural_nets = Parallel(n_jobs=-1)(delayed(train_networks)(nn, X_train, y_train) \n",
    "                                 for nn in tqdm(neural_nets))\n",
    "\n",
    "# # Create and train the neural networks on the smaller training set\n",
    "neural_nets_small = [create_network(hls) for hls in hidden_layers]\n",
    "neural_nets_small = Parallel(n_jobs=-1)(delayed(train_networks)(nn, X_train_small, y_train_small) \n",
    "                                 for nn in tqdm(neural_nets_small))"
   ]
  },
  {
   "cell_type": "markdown",
   "metadata": {},
   "source": [
    "## Test performance (accuracies)"
   ]
  },
  {
   "cell_type": "code",
   "execution_count": 26,
   "metadata": {},
   "outputs": [],
   "source": [
    "# Store the predictions of the networks in their respective dataframes\n",
    "for idx, (nn, nn_small) in enumerate(zip(neural_nets, neural_nets_small)):\n",
    "    for df, X in zip([test_df, unique_df, unl_df, imp_df],\n",
    "                     [X_test, X_unique, X_unl, X_imp]):\n",
    "        \n",
    "        #Predictions\n",
    "        df['prediction_'+str(idx+1)] = nn.predict(X)\n",
    "        df['prediction_small_'+str(idx+1)] = nn_small.predict(X)\n",
    "        \n",
    "        # probabilities\n",
    "        df['proba_'+str(idx+1)] = nn.predict_proba(X)[:,1]\n",
    "        df['proba_small_'+str(idx+1)] = nn_small.predict_proba(X)[:,1]\n",
    "        \n",
    "        #Add unl and imp\n",
    "        df['unl'] = [int(is_unlawful(row)) for index, row in df.iterrows()]\n",
    "        df['imp'] = [int(is_imputable(row)) for index, row in df.iterrows()]"
   ]
  },
  {
   "cell_type": "code",
   "execution_count": 24,
   "metadata": {},
   "outputs": [
    {
     "data": {
      "text/html": [
       "<div>\n",
       "<style scoped>\n",
       "    .dataframe tbody tr th:only-of-type {\n",
       "        vertical-align: middle;\n",
       "    }\n",
       "\n",
       "    .dataframe tbody tr th {\n",
       "        vertical-align: top;\n",
       "    }\n",
       "\n",
       "    .dataframe thead th {\n",
       "        text-align: right;\n",
       "    }\n",
       "</style>\n",
       "<table border=\"1\" class=\"dataframe\">\n",
       "  <thead>\n",
       "    <tr style=\"text-align: right;\">\n",
       "      <th></th>\n",
       "      <th>test</th>\n",
       "      <th>unique</th>\n",
       "      <th>unl</th>\n",
       "      <th>imp</th>\n",
       "    </tr>\n",
       "  </thead>\n",
       "  <tbody>\n",
       "    <tr>\n",
       "      <th>regular 1 layers</th>\n",
       "      <td>100.00</td>\n",
       "      <td>100.00</td>\n",
       "      <td>100.0</td>\n",
       "      <td>100.00</td>\n",
       "    </tr>\n",
       "    <tr>\n",
       "      <th>regular 2 layers</th>\n",
       "      <td>100.00</td>\n",
       "      <td>100.00</td>\n",
       "      <td>100.0</td>\n",
       "      <td>100.00</td>\n",
       "    </tr>\n",
       "    <tr>\n",
       "      <th>regular 3 layers</th>\n",
       "      <td>98.96</td>\n",
       "      <td>98.14</td>\n",
       "      <td>100.0</td>\n",
       "      <td>96.09</td>\n",
       "    </tr>\n",
       "  </tbody>\n",
       "</table>\n",
       "</div>"
      ],
      "text/plain": [
       "                    test  unique    unl     imp\n",
       "regular 1 layers  100.00  100.00  100.0  100.00\n",
       "regular 2 layers  100.00  100.00  100.0  100.00\n",
       "regular 3 layers   98.96   98.14  100.0   96.09"
      ]
     },
     "execution_count": 24,
     "metadata": {},
     "output_type": "execute_result"
    }
   ],
   "source": [
    "# Regular training set \n",
    "accs = pd.DataFrame.from_dict({'regular '+str(idx+1) + ' layers': {\n",
    "    'test': round(100*accuracy_score(y_test, nn.predict(X_test)), 2),\n",
    "    'unique': round(100*accuracy_score(y_unique, nn.predict(X_unique)), 2),\n",
    "    'unl': round(100*accuracy_score(y_unl, nn.predict(X_unl)), 2),\n",
    "    'imp': round(100*accuracy_score(y_imp, nn.predict(X_imp)), 2),\n",
    "} for idx, nn in enumerate(neural_nets)}, orient='index')\n",
    "accs.to_csv('results/accuracies/accuracies_tort.csv')\n",
    "accs"
   ]
  },
  {
   "cell_type": "code",
   "execution_count": 25,
   "metadata": {},
   "outputs": [
    {
     "data": {
      "text/html": [
       "<div>\n",
       "<style scoped>\n",
       "    .dataframe tbody tr th:only-of-type {\n",
       "        vertical-align: middle;\n",
       "    }\n",
       "\n",
       "    .dataframe tbody tr th {\n",
       "        vertical-align: top;\n",
       "    }\n",
       "\n",
       "    .dataframe thead th {\n",
       "        text-align: right;\n",
       "    }\n",
       "</style>\n",
       "<table border=\"1\" class=\"dataframe\">\n",
       "  <thead>\n",
       "    <tr style=\"text-align: right;\">\n",
       "      <th></th>\n",
       "      <th>test</th>\n",
       "      <th>unique</th>\n",
       "      <th>unl</th>\n",
       "      <th>imp</th>\n",
       "    </tr>\n",
       "  </thead>\n",
       "  <tbody>\n",
       "    <tr>\n",
       "      <th>smaller 1 layers</th>\n",
       "      <td>98.42</td>\n",
       "      <td>97.07</td>\n",
       "      <td>90.48</td>\n",
       "      <td>92.97</td>\n",
       "    </tr>\n",
       "    <tr>\n",
       "      <th>smaller 2 layers</th>\n",
       "      <td>98.86</td>\n",
       "      <td>98.05</td>\n",
       "      <td>95.24</td>\n",
       "      <td>96.88</td>\n",
       "    </tr>\n",
       "    <tr>\n",
       "      <th>smaller 3 layers</th>\n",
       "      <td>98.24</td>\n",
       "      <td>96.97</td>\n",
       "      <td>92.86</td>\n",
       "      <td>94.53</td>\n",
       "    </tr>\n",
       "  </tbody>\n",
       "</table>\n",
       "</div>"
      ],
      "text/plain": [
       "                   test  unique    unl    imp\n",
       "smaller 1 layers  98.42   97.07  90.48  92.97\n",
       "smaller 2 layers  98.86   98.05  95.24  96.88\n",
       "smaller 3 layers  98.24   96.97  92.86  94.53"
      ]
     },
     "execution_count": 25,
     "metadata": {},
     "output_type": "execute_result"
    }
   ],
   "source": [
    "# smaller training set \n",
    "accs_smaller = pd.DataFrame.from_dict({'smaller '+str(idx+1) + ' layers': {\n",
    "    'test': round(100*accuracy_score(y_test, nn.predict(X_test)), 2),\n",
    "    'unique': round(100*accuracy_score(y_unique, nn.predict(X_unique)), 2),\n",
    "    'unl': round(100*accuracy_score(y_unl, nn.predict(X_unl)), 2),\n",
    "    'imp': round(100*accuracy_score(y_imp, nn.predict(X_imp)), 2),\n",
    "} for idx, nn in enumerate(neural_nets_small)}, orient='index')\n",
    "accs_smaller.to_csv('results/accuracies/accuracies_tort_smaller.csv')\n",
    "accs_smaller"
   ]
  },
  {
   "cell_type": "markdown",
   "metadata": {},
   "source": [
    "## Test the Rationale"
   ]
  },
  {
   "cell_type": "code",
   "execution_count": 27,
   "metadata": {},
   "outputs": [
    {
     "data": {
      "text/html": [
       "<div>\n",
       "<style scoped>\n",
       "    .dataframe tbody tr th:only-of-type {\n",
       "        vertical-align: middle;\n",
       "    }\n",
       "\n",
       "    .dataframe tbody tr th {\n",
       "        vertical-align: top;\n",
       "    }\n",
       "\n",
       "    .dataframe thead th {\n",
       "        text-align: right;\n",
       "    }\n",
       "</style>\n",
       "<table border=\"1\" class=\"dataframe\">\n",
       "  <thead>\n",
       "    <tr style=\"text-align: right;\">\n",
       "      <th></th>\n",
       "      <th>prediction_3</th>\n",
       "    </tr>\n",
       "    <tr>\n",
       "      <th>imp</th>\n",
       "      <th></th>\n",
       "    </tr>\n",
       "  </thead>\n",
       "  <tbody>\n",
       "    <tr>\n",
       "      <th>0</th>\n",
       "      <td>0.3125</td>\n",
       "    </tr>\n",
       "    <tr>\n",
       "      <th>1</th>\n",
       "      <td>1.0000</td>\n",
       "    </tr>\n",
       "  </tbody>\n",
       "</table>\n",
       "</div>"
      ],
      "text/plain": [
       "     prediction_3\n",
       "imp              \n",
       "0          0.3125\n",
       "1          1.0000"
      ]
     },
     "execution_count": 27,
     "metadata": {},
     "output_type": "execute_result"
    }
   ],
   "source": [
    "pd.DataFrame(imp_df['prediction_3'].groupby(by=imp_df['imp']).mean())"
   ]
  },
  {
   "cell_type": "code",
   "execution_count": 28,
   "metadata": {},
   "outputs": [
    {
     "data": {
      "text/html": [
       "<div>\n",
       "<style scoped>\n",
       "    .dataframe tbody tr th:only-of-type {\n",
       "        vertical-align: middle;\n",
       "    }\n",
       "\n",
       "    .dataframe tbody tr th {\n",
       "        vertical-align: top;\n",
       "    }\n",
       "\n",
       "    .dataframe thead th {\n",
       "        text-align: right;\n",
       "    }\n",
       "</style>\n",
       "<table border=\"1\" class=\"dataframe\">\n",
       "  <thead>\n",
       "    <tr style=\"text-align: right;\">\n",
       "      <th></th>\n",
       "      <th>prediction_3</th>\n",
       "    </tr>\n",
       "    <tr>\n",
       "      <th>unl</th>\n",
       "      <th></th>\n",
       "    </tr>\n",
       "  </thead>\n",
       "  <tbody>\n",
       "    <tr>\n",
       "      <th>0</th>\n",
       "      <td>0</td>\n",
       "    </tr>\n",
       "    <tr>\n",
       "      <th>1</th>\n",
       "      <td>1</td>\n",
       "    </tr>\n",
       "  </tbody>\n",
       "</table>\n",
       "</div>"
      ],
      "text/plain": [
       "     prediction_3\n",
       "unl              \n",
       "0               0\n",
       "1               1"
      ]
     },
     "execution_count": 28,
     "metadata": {},
     "output_type": "execute_result"
    }
   ],
   "source": [
    "pd.DataFrame(unl_df['prediction_3'].groupby(by=unl_df['unl']).mean())"
   ]
  },
  {
   "cell_type": "markdown",
   "metadata": {},
   "source": [
    "### Smaller dataset"
   ]
  },
  {
   "cell_type": "code",
   "execution_count": 29,
   "metadata": {},
   "outputs": [
    {
     "data": {
      "text/html": [
       "<div>\n",
       "<style scoped>\n",
       "    .dataframe tbody tr th:only-of-type {\n",
       "        vertical-align: middle;\n",
       "    }\n",
       "\n",
       "    .dataframe tbody tr th {\n",
       "        vertical-align: top;\n",
       "    }\n",
       "\n",
       "    .dataframe thead th {\n",
       "        text-align: right;\n",
       "    }\n",
       "</style>\n",
       "<table border=\"1\" class=\"dataframe\">\n",
       "  <thead>\n",
       "    <tr style=\"text-align: right;\">\n",
       "      <th></th>\n",
       "      <th>prediction_small_3</th>\n",
       "    </tr>\n",
       "    <tr>\n",
       "      <th>imp</th>\n",
       "      <th></th>\n",
       "    </tr>\n",
       "  </thead>\n",
       "  <tbody>\n",
       "    <tr>\n",
       "      <th>0</th>\n",
       "      <td>0.4375</td>\n",
       "    </tr>\n",
       "    <tr>\n",
       "      <th>1</th>\n",
       "      <td>1.0000</td>\n",
       "    </tr>\n",
       "  </tbody>\n",
       "</table>\n",
       "</div>"
      ],
      "text/plain": [
       "     prediction_small_3\n",
       "imp                    \n",
       "0                0.4375\n",
       "1                1.0000"
      ]
     },
     "execution_count": 29,
     "metadata": {},
     "output_type": "execute_result"
    }
   ],
   "source": [
    "pd.DataFrame(imp_df['prediction_small_3'].groupby(by=imp_df['imp']).mean())"
   ]
  },
  {
   "cell_type": "code",
   "execution_count": 30,
   "metadata": {},
   "outputs": [
    {
     "data": {
      "text/html": [
       "<div>\n",
       "<style scoped>\n",
       "    .dataframe tbody tr th:only-of-type {\n",
       "        vertical-align: middle;\n",
       "    }\n",
       "\n",
       "    .dataframe tbody tr th {\n",
       "        vertical-align: top;\n",
       "    }\n",
       "\n",
       "    .dataframe thead th {\n",
       "        text-align: right;\n",
       "    }\n",
       "</style>\n",
       "<table border=\"1\" class=\"dataframe\">\n",
       "  <thead>\n",
       "    <tr style=\"text-align: right;\">\n",
       "      <th></th>\n",
       "      <th>prediction_small_3</th>\n",
       "    </tr>\n",
       "    <tr>\n",
       "      <th>unl</th>\n",
       "      <th></th>\n",
       "    </tr>\n",
       "  </thead>\n",
       "  <tbody>\n",
       "    <tr>\n",
       "      <th>0</th>\n",
       "      <td>0.214286</td>\n",
       "    </tr>\n",
       "    <tr>\n",
       "      <th>1</th>\n",
       "      <td>1.000000</td>\n",
       "    </tr>\n",
       "  </tbody>\n",
       "</table>\n",
       "</div>"
      ],
      "text/plain": [
       "     prediction_small_3\n",
       "unl                    \n",
       "0              0.214286\n",
       "1              1.000000"
      ]
     },
     "execution_count": 30,
     "metadata": {},
     "output_type": "execute_result"
    }
   ],
   "source": [
    "pd.DataFrame(unl_df['prediction_small_3'].groupby(by=unl_df['unl']).mean())"
   ]
  },
  {
   "cell_type": "markdown",
   "metadata": {},
   "source": [
    "## Run the experiment multiple times"
   ]
  },
  {
   "cell_type": "code",
   "execution_count": 15,
   "metadata": {},
   "outputs": [],
   "source": [
    "import copy \n",
    "\n",
    "def convert_accs(accs):\n",
    "    '''\n",
    "    Converts list of accuracies to mean and std\n",
    "    '''\n",
    "    return str(round(np.mean(accs), 2)) + ' ± ' + str(round(np.std(accs), 2))   \n",
    "\n",
    "def merge_accuracies(accuracies):\n",
    "    '''\n",
    "    Merge the list of accuracies to a pandas dataframe with mean and standard deviations\n",
    "    '''\n",
    "    accs = copy.deepcopy(accuracies)\n",
    "    results = accs[0]\n",
    "    for idx, x in enumerate(accs):\n",
    "        if idx == 0: continue\n",
    "        for train_name, train_data in x.items():\n",
    "            for test_name, test_data in train_data.items():\n",
    "                results[train_name][test_name].append(test_data[0])\n",
    "                if idx == len(accs)-1:\n",
    "                    results[train_name][test_name] = convert_accs(results[train_name][test_name])\n",
    "    return pd.DataFrame.from_dict(results).T\n",
    "\n",
    "def run_experiment():\n",
    "    '''\n",
    "    Train and test neural networks\n",
    "    '''\n",
    "\n",
    "    accuracies = {}\n",
    "\n",
    "    # Training datasets\n",
    "    datasets_train = {\n",
    "        'regular' : generate_dataset(5000),\n",
    "        'smaller' : generate_dataset(500),\n",
    "    }\n",
    "    preprocessed_train = {name: preprocess(df) for name, df in datasets_train.items()}\n",
    "\n",
    "    # Test datasets\n",
    "    datasets_test = {\n",
    "        'general' : generate_dataset(5000),\n",
    "        'unique' : generate_unique_dataset(),\n",
    "        'unl' : generate_unlawful_dataset(),\n",
    "        'imp' : generate_impudence_dataset(),\n",
    "    }\n",
    "    preprocessed_test = {name: preprocess(df) for name, df in datasets_test.items()}\n",
    "    \n",
    "    for train_name, train_data in preprocessed_train.items():       \n",
    "        # Create and train the neural networks on training set A\n",
    "        neural_nets = [create_network(hls) for hls in hidden_layers]   \n",
    "        neural_nets = Parallel(n_jobs=1)(delayed(train_networks)(nn, train_data[0], train_data[1]) \n",
    "                                         for nn in neural_nets)\n",
    "        \n",
    "        # Initialize accuracies data\n",
    "        for idx, nn in enumerate(neural_nets):\n",
    "            accuracies[train_name+'_'+str(idx+1)] = {test_name: [] for test_name in preprocessed_test.keys()}\n",
    "\n",
    "        # Add accuracies\n",
    "        for test_name, test_data in preprocessed_test.items():\n",
    "            for idx, nn in enumerate(neural_nets):\n",
    "                accuracies[train_name+'_'+str(idx+1)][test_name].append(100*accuracy_score(test_data[1], nn.predict(test_data[0])))\n",
    "\n",
    "    return accuracies"
   ]
  },
  {
   "cell_type": "code",
   "execution_count": 16,
   "metadata": {},
   "outputs": [
    {
     "name": "stderr",
     "output_type": "stream",
     "text": [
      "100%|██████████| 50/50 [00:37<00:00,  1.32it/s]\n"
     ]
    },
    {
     "data": {
      "text/html": [
       "<div>\n",
       "<style scoped>\n",
       "    .dataframe tbody tr th:only-of-type {\n",
       "        vertical-align: middle;\n",
       "    }\n",
       "\n",
       "    .dataframe tbody tr th {\n",
       "        vertical-align: top;\n",
       "    }\n",
       "\n",
       "    .dataframe thead th {\n",
       "        text-align: right;\n",
       "    }\n",
       "</style>\n",
       "<table border=\"1\" class=\"dataframe\">\n",
       "  <thead>\n",
       "    <tr style=\"text-align: right;\">\n",
       "      <th></th>\n",
       "      <th>general</th>\n",
       "      <th>unique</th>\n",
       "      <th>unl</th>\n",
       "      <th>imp</th>\n",
       "    </tr>\n",
       "  </thead>\n",
       "  <tbody>\n",
       "    <tr>\n",
       "      <th>regular_1</th>\n",
       "      <td>100.0 ± 0.0</td>\n",
       "      <td>100.0 ± 0.0</td>\n",
       "      <td>100.0 ± 0.0</td>\n",
       "      <td>100.0 ± 0.0</td>\n",
       "    </tr>\n",
       "    <tr>\n",
       "      <th>regular_2</th>\n",
       "      <td>100.0 ± 0.0</td>\n",
       "      <td>100.0 ± 0.0</td>\n",
       "      <td>100.0 ± 0.0</td>\n",
       "      <td>100.0 ± 0.0</td>\n",
       "    </tr>\n",
       "    <tr>\n",
       "      <th>regular_3</th>\n",
       "      <td>99.88 ± 0.33</td>\n",
       "      <td>99.79 ± 0.58</td>\n",
       "      <td>100.0 ± 0.0</td>\n",
       "      <td>99.67 ± 1.24</td>\n",
       "    </tr>\n",
       "    <tr>\n",
       "      <th>smaller_1</th>\n",
       "      <td>98.54 ± 0.49</td>\n",
       "      <td>97.41 ± 0.88</td>\n",
       "      <td>92.56 ± 3.43</td>\n",
       "      <td>92.14 ± 3.66</td>\n",
       "    </tr>\n",
       "    <tr>\n",
       "      <th>smaller_2</th>\n",
       "      <td>99.18 ± 0.41</td>\n",
       "      <td>98.56 ± 0.72</td>\n",
       "      <td>95.81 ± 3.25</td>\n",
       "      <td>96.19 ± 3.29</td>\n",
       "    </tr>\n",
       "    <tr>\n",
       "      <th>smaller_3</th>\n",
       "      <td>98.12 ± 0.69</td>\n",
       "      <td>96.67 ± 1.24</td>\n",
       "      <td>91.55 ± 5.96</td>\n",
       "      <td>91.94 ± 4.12</td>\n",
       "    </tr>\n",
       "  </tbody>\n",
       "</table>\n",
       "</div>"
      ],
      "text/plain": [
       "                general        unique           unl           imp\n",
       "regular_1   100.0 ± 0.0   100.0 ± 0.0   100.0 ± 0.0   100.0 ± 0.0\n",
       "regular_2   100.0 ± 0.0   100.0 ± 0.0   100.0 ± 0.0   100.0 ± 0.0\n",
       "regular_3  99.88 ± 0.33  99.79 ± 0.58   100.0 ± 0.0  99.67 ± 1.24\n",
       "smaller_1  98.54 ± 0.49  97.41 ± 0.88  92.56 ± 3.43  92.14 ± 3.66\n",
       "smaller_2  99.18 ± 0.41  98.56 ± 0.72  95.81 ± 3.25  96.19 ± 3.29\n",
       "smaller_3  98.12 ± 0.69  96.67 ± 1.24  91.55 ± 5.96  91.94 ± 4.12"
      ]
     },
     "execution_count": 16,
     "metadata": {},
     "output_type": "execute_result"
    }
   ],
   "source": [
    "# Number of runs\n",
    "num_runs = 50\n",
    "accuracies = Parallel(n_jobs=-1)(delayed(run_experiment)() for run in tqdm(range(0, num_runs)))\n",
    "results = merge_accuracies(accuracies)\n",
    "results.to_csv('results/accuracies/50_runs_tort.csv')\n",
    "results"
   ]
  },
  {
   "cell_type": "code",
   "execution_count": null,
   "metadata": {},
   "outputs": [],
   "source": []
  }
 ],
 "metadata": {
  "kernelspec": {
   "display_name": "Python 3",
   "language": "python",
   "name": "python3"
  },
  "language_info": {
   "codemirror_mode": {
    "name": "ipython",
    "version": 3
   },
   "file_extension": ".py",
   "mimetype": "text/x-python",
   "name": "python",
   "nbconvert_exporter": "python",
   "pygments_lexer": "ipython3",
   "version": "3.8.5"
  }
 },
 "nbformat": 4,
 "nbformat_minor": 4
}
